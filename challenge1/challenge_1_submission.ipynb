{
  "nbformat": 4,
  "nbformat_minor": 0,
  "metadata": {
    "colab": {
      "name": "Copia di challenge_1.ipynb",
      "provenance": []
    },
    "kernelspec": {
      "name": "python3",
      "display_name": "Python 3"
    }
  },
  "cells": [
    {
      "cell_type": "code",
      "metadata": {
        "id": "rj2Nr4tkqYwL"
      },
      "source": [
        ""
      ],
      "execution_count": null,
      "outputs": []
    },
    {
      "cell_type": "markdown",
      "metadata": {
        "id": "2bGLZVzosVOx"
      },
      "source": [
        "# Data Preprocessing\n",
        "The dataset provided for this challenge is composed by xx images of different height and width. In order to obtain a standard shape for all images, a particular function has been used, namely `tf.keras.preprocessing.image.smart_resize()`.\n",
        "\n",
        "This function resizes images to a specified target size without affecting the aspect ratio. This step is due to the successive batching of all images that requires a common format for all of them.\n",
        "In order to avoid a loss of information that would have been caused by applying a crop, it has been computed what the max width/height of the images was by implementing `getMaxImageSize(dataset_dir)`.\n",
        "\n",
        "This function returns the maximum (width,height), considering all the images of the provided dataset.\n",
        "For what regards data augmentation and the splitting of the data into two distinct sets, namely train and validation, it has been used the following script which assigns a fraction of 30% of the imgaes to the validation set; the rest will be assigned to the training set.\n",
        "\n",
        "```\n",
        "train_data_gen = ImageDataGenerator ( rotation_range=10,            \n",
        "                                      width_shift_range=10,\n",
        "                                      height_shift_range=10,\n",
        "                                      zoom_range=0.3, \n",
        "                                      horizontal_flip=True,\n",
        "                                      fill_mode='reflect',\n",
        "                                      rescale=1. / 255,\n",
        "                                      validation_split=0.3,  \n",
        "                                      preproc_funct=smart_resize()  \n",
        "                                    )\n",
        "```\n",
        "Considering that a strict division of the images in subdirectories representing the target classes is required for the functions involved in the creation of augmented images, we implemented a specific function that requires a ```json_definition``` for the subdirectory construction and the path where such images are located:\n",
        "\n",
        "```\n",
        "divideDatasetInTargetFolders(json_definition, dataset_path)\n",
        "```\n",
        "\n",
        "# Model Design\n",
        "# Model Selection\n",
        "#Results\n",
        "\n",
        "\n",
        "\n",
        "\n",
        "\n"
      ]
    }
  ]
}